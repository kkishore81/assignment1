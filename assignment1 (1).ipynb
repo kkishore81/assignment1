{
 "cells": [
  {
   "cell_type": "code",
   "execution_count": 1,
   "id": "a0a8cacd-fd5c-423c-9ec4-6872711c0467",
   "metadata": {},
   "outputs": [],
   "source": [
    "v = [\"string\",1,2,3,4, 12.25, (1)]"
   ]
  },
  {
   "cell_type": "code",
   "execution_count": 25,
   "id": "2326188f-a0cc-4ccf-b832-d8a2e37897cd",
   "metadata": {},
   "outputs": [],
   "source": [
    "var1 = ' ' "
   ]
  },
  {
   "cell_type": "code",
   "execution_count": 26,
   "id": "135a7af2-eb3c-4bd8-9f50-0d75d7305bbe",
   "metadata": {},
   "outputs": [
    {
     "data": {
      "text/plain": [
       "str"
      ]
     },
     "execution_count": 26,
     "metadata": {},
     "output_type": "execute_result"
    }
   ],
   "source": [
    "type(var1)"
   ]
  },
  {
   "cell_type": "code",
   "execution_count": 29,
   "id": "6fa67152-05fd-45d3-8e46-a2e440d6c66d",
   "metadata": {},
   "outputs": [],
   "source": [
    "var2 = '[ DS , ML , Python]'"
   ]
  },
  {
   "cell_type": "code",
   "execution_count": 30,
   "id": "321fa707-bb8d-4919-9138-44514caeb862",
   "metadata": {},
   "outputs": [
    {
     "data": {
      "text/plain": [
       "str"
      ]
     },
     "execution_count": 30,
     "metadata": {},
     "output_type": "execute_result"
    }
   ],
   "source": [
    "type(var2)"
   ]
  },
  {
   "cell_type": "code",
   "execution_count": 31,
   "id": "397f6f7e-a51c-4a3a-b19c-f49ffe17438b",
   "metadata": {},
   "outputs": [],
   "source": [
    "var3 = ['DS', 'ML','Python']"
   ]
  },
  {
   "cell_type": "code",
   "execution_count": 32,
   "id": "06aaf0f9-7b06-4276-873b-ec3d1e9fe64e",
   "metadata": {},
   "outputs": [
    {
     "data": {
      "text/plain": [
       "list"
      ]
     },
     "execution_count": 32,
     "metadata": {},
     "output_type": "execute_result"
    }
   ],
   "source": [
    "type(var3)"
   ]
  },
  {
   "cell_type": "code",
   "execution_count": 33,
   "id": "3d1005fd-b3fb-45f8-b9ce-fd7519904744",
   "metadata": {},
   "outputs": [],
   "source": [
    "var4 = 1"
   ]
  },
  {
   "cell_type": "code",
   "execution_count": 34,
   "id": "bcbc6979-44ea-4413-9791-ce3f371583bb",
   "metadata": {},
   "outputs": [
    {
     "data": {
      "text/plain": [
       "int"
      ]
     },
     "execution_count": 34,
     "metadata": {},
     "output_type": "execute_result"
    }
   ],
   "source": [
    "type(var4)"
   ]
  },
  {
   "cell_type": "code",
   "execution_count": null,
   "id": "6444ab4d-769a-4f26-9db3-58b506a0aee4",
   "metadata": {},
   "outputs": [],
   "source": [
    "Question No 3 "
   ]
  },
  {
   "cell_type": "code",
   "execution_count": null,
   "id": "a2829ff8-cc42-4cd8-81e4-bc9a2d387a30",
   "metadata": {},
   "outputs": [],
   "source": [
    "Arthemetic Oeprators"
   ]
  },
  {
   "cell_type": "code",
   "execution_count": null,
   "id": "4a2ba650-0f95-4b8d-905c-5fc055367f25",
   "metadata": {},
   "outputs": [],
   "source": [
    "/ Division function"
   ]
  },
  {
   "cell_type": "code",
   "execution_count": 1,
   "id": "118d8733-4be7-4b08-94c2-662631da8bc8",
   "metadata": {},
   "outputs": [
    {
     "data": {
      "text/plain": [
       "0.5"
      ]
     },
     "execution_count": 1,
     "metadata": {},
     "output_type": "execute_result"
    }
   ],
   "source": [
    "1/2"
   ]
  },
  {
   "cell_type": "code",
   "execution_count": 15,
   "id": "d9f24b74-6c69-400a-b6d2-c82e407b55f7",
   "metadata": {},
   "outputs": [
    {
     "data": {
      "text/plain": [
       "'%percentage function Modulos oeprator gives the Reminder after division'"
      ]
     },
     "execution_count": 15,
     "metadata": {},
     "output_type": "execute_result"
    }
   ],
   "source": [
    "\"%percentage function Modulos oeprator gives the Reminder after division\""
   ]
  },
  {
   "cell_type": "code",
   "execution_count": 14,
   "id": "c227f5aa-a224-427c-8bce-6836ac9d93c3",
   "metadata": {},
   "outputs": [
    {
     "data": {
      "text/plain": [
       "2"
      ]
     },
     "execution_count": 14,
     "metadata": {},
     "output_type": "execute_result"
    }
   ],
   "source": [
    "5%3"
   ]
  },
  {
   "cell_type": "code",
   "execution_count": null,
   "id": "5df3dc95-2fae-4065-9445-0680d6b4d950",
   "metadata": {},
   "outputs": [],
   "source": [
    "'// function tell the quotient after division"
   ]
  },
  {
   "cell_type": "code",
   "execution_count": 3,
   "id": "c6e1e27e-74a0-41ab-8593-2ef3f4b9bf6e",
   "metadata": {},
   "outputs": [
    {
     "data": {
      "text/plain": [
       "0"
      ]
     },
     "execution_count": 3,
     "metadata": {},
     "output_type": "execute_result"
    }
   ],
   "source": [
    "5//100"
   ]
  },
  {
   "cell_type": "code",
   "execution_count": 10,
   "id": "4844afa9-c7bb-498b-99e3-8ffb1e5af7fe",
   "metadata": {},
   "outputs": [
    {
     "data": {
      "text/plain": [
       "1"
      ]
     },
     "execution_count": 10,
     "metadata": {},
     "output_type": "execute_result"
    }
   ],
   "source": [
    "5//4"
   ]
  },
  {
   "cell_type": "code",
   "execution_count": 12,
   "id": "162c8e00-c886-4ddf-a626-c79bf1b6c328",
   "metadata": {},
   "outputs": [
    {
     "data": {
      "text/plain": [
       "2"
      ]
     },
     "execution_count": 12,
     "metadata": {},
     "output_type": "execute_result"
    }
   ],
   "source": [
    "5//2"
   ]
  },
  {
   "cell_type": "code",
   "execution_count": 17,
   "id": "de80587a-98f3-4675-a582-de7bb68741e8",
   "metadata": {},
   "outputs": [
    {
     "data": {
      "text/plain": [
       "' ** is power funtion'"
      ]
     },
     "execution_count": 17,
     "metadata": {},
     "output_type": "execute_result"
    }
   ],
   "source": [
    "\" ** is exponenet funtion\""
   ]
  },
  {
   "cell_type": "code",
   "execution_count": 21,
   "id": "64b6a936-ac7d-4dfd-b2f1-042608ed9b32",
   "metadata": {},
   "outputs": [
    {
     "data": {
      "text/plain": [
       "8"
      ]
     },
     "execution_count": 21,
     "metadata": {},
     "output_type": "execute_result"
    }
   ],
   "source": [
    "2**3"
   ]
  },
  {
   "cell_type": "code",
   "execution_count": null,
   "id": "d7e77cb8-3340-43b9-a25d-ede511b446fe",
   "metadata": {},
   "outputs": [],
   "source": [
    "\"question no 4\""
   ]
  },
  {
   "cell_type": "code",
   "execution_count": 3,
   "id": "49541dea-7ac1-47a1-afb4-98407f1fef13",
   "metadata": {},
   "outputs": [],
   "source": [
    "k = [1,2,3,4,5, \"KK\",\"pwskills\", 10.25 , 5.45, True]"
   ]
  },
  {
   "cell_type": "code",
   "execution_count": 4,
   "id": "99aa2248-22ae-4a4f-b5cb-0c0f1a2596f8",
   "metadata": {},
   "outputs": [
    {
     "name": "stdout",
     "output_type": "stream",
     "text": [
      "<class 'int'>\n",
      "<class 'int'>\n",
      "<class 'int'>\n",
      "<class 'int'>\n",
      "<class 'int'>\n",
      "<class 'str'>\n",
      "<class 'str'>\n",
      "<class 'float'>\n",
      "<class 'float'>\n",
      "<class 'bool'>\n"
     ]
    }
   ],
   "source": [
    "for i in k:\n",
    "    print(type(i))"
   ]
  },
  {
   "cell_type": "code",
   "execution_count": 5,
   "id": "8966484c-0dd8-4f01-b572-4b1fcb57b648",
   "metadata": {},
   "outputs": [
    {
     "data": {
      "text/plain": [
       "'question no 5'"
      ]
     },
     "execution_count": 5,
     "metadata": {},
     "output_type": "execute_result"
    }
   ],
   "source": [
    "\"question no 5\""
   ]
  },
  {
   "cell_type": "code",
   "execution_count": 5,
   "id": "f74c7811-e06f-4895-907f-2d05ca314ece",
   "metadata": {},
   "outputs": [],
   "source": [
    "a = 5\n",
    "b = 25\n",
    "while a//25:\n",
    "    print(a)\n",
    "    a = a + 5"
   ]
  },
  {
   "cell_type": "code",
   "execution_count": 1,
   "id": "fa0cf457-bdc2-4788-ad61-73ca55fe247f",
   "metadata": {},
   "outputs": [
    {
     "data": {
      "text/plain": [
       "3"
      ]
     },
     "execution_count": 1,
     "metadata": {},
     "output_type": "execute_result"
    }
   ],
   "source": [
    "1+2"
   ]
  },
  {
   "cell_type": "code",
   "execution_count": null,
   "id": "1df645f6-2906-4352-86fd-7bb4c5236217",
   "metadata": {},
   "outputs": [],
   "source": [
    "a = 5\n",
    "b = 25\n",
    "while a // b :\n",
    "    print(assignment)\n",
    "    a=5+1\n",
    "    "
   ]
  },
  {
   "cell_type": "code",
   "execution_count": null,
   "id": "b2374fff-8ca3-43e2-ac9a-88cf5439d538",
   "metadata": {},
   "outputs": [],
   "source": [
    "1+2"
   ]
  },
  {
   "cell_type": "code",
   "execution_count": 2,
   "id": "77b5493f-f1c7-48fe-b056-f9f94b504e76",
   "metadata": {},
   "outputs": [
    {
     "name": "stdout",
     "output_type": "stream",
     "text": [
      "1\n",
      "1\n",
      "1\n",
      "1\n",
      "1\n"
     ]
    }
   ],
   "source": [
    "a = 15\n",
    "b = 3\n",
    "while a - b >= 0:\n",
    "    print(\"1\")\n",
    "    b = b+3 \n",
    "    \n"
   ]
  },
  {
   "cell_type": "code",
   "execution_count": null,
   "id": "574f39ef-8e95-4b3b-ac27-728bb052a5f3",
   "metadata": {},
   "outputs": [],
   "source": [
    "question no 6"
   ]
  },
  {
   "cell_type": "code",
   "execution_count": 24,
   "id": "8c609a34-ed72-4200-b08d-f5701ccd1c5d",
   "metadata": {},
   "outputs": [],
   "source": [
    "l = [i for i in range(0,25)]"
   ]
  },
  {
   "cell_type": "code",
   "execution_count": 27,
   "id": "a46af3bd-477d-4e35-bf0f-bfebce1c0b4d",
   "metadata": {},
   "outputs": [
    {
     "name": "stdout",
     "output_type": "stream",
     "text": [
      "[0, 1, 2, 3, 4, 5, 6, 7, 8, 9, 10, 11, 12, 13, 14, 15, 16, 17, 18, 19, 20, 21, 22, 23, 24]\n"
     ]
    }
   ],
   "source": [
    "print(l)"
   ]
  },
  {
   "cell_type": "code",
   "execution_count": 30,
   "id": "da3ce760-b71d-41de-a85f-25f3fb141a64",
   "metadata": {},
   "outputs": [
    {
     "name": "stdout",
     "output_type": "stream",
     "text": [
      "3\n"
     ]
    }
   ],
   "source": [
    "a = 15\n",
    "b = 3\n",
    "print (b) if a - b >=0 else print (a) "
   ]
  },
  {
   "cell_type": "code",
   "execution_count": 3,
   "id": "ada03520-bc79-4336-995e-f94661821241",
   "metadata": {},
   "outputs": [
    {
     "data": {
      "text/plain": [
       "'mutable & Imutable data types'"
      ]
     },
     "execution_count": 3,
     "metadata": {},
     "output_type": "execute_result"
    }
   ],
   "source": [
    "\"mutable & Imutable data types\""
   ]
  },
  {
   "cell_type": "code",
   "execution_count": null,
   "id": "8c71ec89-3553-4bdb-8e9e-4c889805085d",
   "metadata": {},
   "outputs": [],
   "source": [
    "Mutable data types where in value can be changed however in imutable data type value cannot be changed"
   ]
  },
  {
   "cell_type": "code",
   "execution_count": null,
   "id": "f83636ee-e098-46c8-8b7f-fd134669f462",
   "metadata": {},
   "outputs": [],
   "source": [
    "for eg"
   ]
  },
  {
   "cell_type": "code",
   "execution_count": 6,
   "id": "8da53c39-7f1d-4c64-9294-8a1b23bc0308",
   "metadata": {},
   "outputs": [],
   "source": [
    "l = [1,2,5,9,10,'kaus', 10.45]"
   ]
  },
  {
   "cell_type": "code",
   "execution_count": 7,
   "id": "9ae56e47-52a0-49da-ae00-4e85b30678a6",
   "metadata": {},
   "outputs": [
    {
     "data": {
      "text/plain": [
       "[1, 2, 5, 9, 10, 'kaus', 10.45]"
      ]
     },
     "execution_count": 7,
     "metadata": {},
     "output_type": "execute_result"
    }
   ],
   "source": [
    "l"
   ]
  },
  {
   "cell_type": "code",
   "execution_count": 9,
   "id": "9fe04869-b083-497c-9b20-cafb57adef8e",
   "metadata": {},
   "outputs": [],
   "source": [
    "l[2] = 56"
   ]
  },
  {
   "cell_type": "code",
   "execution_count": null,
   "id": "e98840a6-5685-4c33-a55a-c9d5a3327fa5",
   "metadata": {},
   "outputs": [
    {
     "data": {
      "text/plain": [
       "[1, 2, 56, 9, 10, 'kaus', 10.45]"
      ]
     },
     "execution_count": 10,
     "metadata": {},
     "output_type": "execute_result"
    }
   ],
   "source": [
    "l"
   ]
  },
  {
   "cell_type": "code",
   "execution_count": null,
   "id": "dd37d2da-c03c-40c5-b08c-866aa1568f26",
   "metadata": {},
   "outputs": [],
   "source": [
    "we were able to change the no 5 to 56 so its mutable"
   ]
  },
  {
   "cell_type": "code",
   "execution_count": 14,
   "id": "2adaa2f3-cb31-429b-8dbd-5ee425871c64",
   "metadata": {},
   "outputs": [],
   "source": [
    "k = 'kaushal'"
   ]
  },
  {
   "cell_type": "code",
   "execution_count": 15,
   "id": "80c254f0-91a2-4cae-837a-77a48b53fbf2",
   "metadata": {},
   "outputs": [
    {
     "data": {
      "text/plain": [
       "'kaushal'"
      ]
     },
     "execution_count": 15,
     "metadata": {},
     "output_type": "execute_result"
    }
   ],
   "source": [
    "k"
   ]
  },
  {
   "cell_type": "code",
   "execution_count": 16,
   "id": "78a4a323-e070-41cd-880f-eaa41f128985",
   "metadata": {},
   "outputs": [
    {
     "data": {
      "text/plain": [
       "'s'"
      ]
     },
     "execution_count": 16,
     "metadata": {},
     "output_type": "execute_result"
    }
   ],
   "source": [
    "k[3]"
   ]
  },
  {
   "cell_type": "code",
   "execution_count": 17,
   "id": "3d49fc7f-a14b-41c2-b80a-b4f9789947d4",
   "metadata": {},
   "outputs": [
    {
     "ename": "NameError",
     "evalue": "name 'm' is not defined",
     "output_type": "error",
     "traceback": [
      "\u001b[0;31m---------------------------------------------------------------------------\u001b[0m",
      "\u001b[0;31mNameError\u001b[0m                                 Traceback (most recent call last)",
      "Cell \u001b[0;32mIn[17], line 1\u001b[0m\n\u001b[0;32m----> 1\u001b[0m k[\u001b[38;5;241m3\u001b[39m] \u001b[38;5;241m=\u001b[39m \u001b[43mm\u001b[49m\n",
      "\u001b[0;31mNameError\u001b[0m: name 'm' is not defined"
     ]
    }
   ],
   "source": [
    "k[3] = m"
   ]
  },
  {
   "cell_type": "code",
   "execution_count": null,
   "id": "d140e495-2212-4aaf-91b3-eb3e62adc945",
   "metadata": {},
   "outputs": [],
   "source": [
    "here we are getting an error hence the data is immutable"
   ]
  }
 ],
 "metadata": {
  "kernelspec": {
   "display_name": "Python 3 (ipykernel)",
   "language": "python",
   "name": "python3"
  },
  "language_info": {
   "codemirror_mode": {
    "name": "ipython",
    "version": 3
   },
   "file_extension": ".py",
   "mimetype": "text/x-python",
   "name": "python",
   "nbconvert_exporter": "python",
   "pygments_lexer": "ipython3",
   "version": "3.10.8"
  }
 },
 "nbformat": 4,
 "nbformat_minor": 5
}
